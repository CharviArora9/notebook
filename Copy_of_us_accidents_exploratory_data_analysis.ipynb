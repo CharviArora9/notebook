{
  "cells": [
    {
      "cell_type": "markdown",
      "metadata": {
        "id": "view-in-github",
        "colab_type": "text"
      },
      "source": [
        "<a href=\"https://colab.research.google.com/github/CharviArora9/notebook/blob/main/Copy_of_us_accidents_exploratory_data_analysis.ipynb\" target=\"_parent\"><img src=\"https://colab.research.google.com/assets/colab-badge.svg\" alt=\"Open In Colab\"/></a>"
      ]
    },
    {
      "cell_type": "code",
      "execution_count": 1,
      "metadata": {
        "id": "IM47R9QhCC0F",
        "colab": {
          "base_uri": "https://localhost:8080/"
        },
        "outputId": "6edde0d9-606b-4e59-a5af-bdf013713ff4"
      },
      "outputs": [
        {
          "output_type": "stream",
          "name": "stdout",
          "text": [
            "\u001b[?25l\r\u001b[K     |████▊                           | 10 kB 30.8 MB/s eta 0:00:01\r\u001b[K     |█████████▌                      | 20 kB 38.7 MB/s eta 0:00:01\r\u001b[K     |██████████████▎                 | 30 kB 34.8 MB/s eta 0:00:01\r\u001b[K     |███████████████████             | 40 kB 13.6 MB/s eta 0:00:01\r\u001b[K     |███████████████████████▉        | 51 kB 13.4 MB/s eta 0:00:01\r\u001b[K     |████████████████████████████▋   | 61 kB 15.5 MB/s eta 0:00:01\r\u001b[K     |████████████████████████████████| 68 kB 6.4 MB/s \n",
            "\u001b[?25h  Building wheel for uuid (setup.py) ... \u001b[?25l\u001b[?25hdone\n"
          ]
        }
      ],
      "source": [
        "# Jovian Commit Essentials\n",
        "# Please retain and execute this cell without modifying the contents for `jovian.commit` to work\n",
        "!pip install jovian --upgrade -q\n",
        "import jovian\n",
        "jovian.set_project('us-accidents-exploratory-data-analysis')\n",
        "jovian.set_colab_id('1hK1-GJlq4iyh5o-iPz8WIZS-FfgR0Krw')"
      ]
    },
    {
      "cell_type": "markdown",
      "metadata": {
        "id": "VZGibVALCC0H"
      },
      "source": [
        "# us-accidents-exploratory-data-analysis\n",
        "\n",
        "Use the \"Run\" button to execute the code."
      ]
    },
    {
      "cell_type": "markdown",
      "metadata": {
        "id": "_p-4O2D4Cyis"
      },
      "source": [
        "# US Accidents Exploratory Data Analysis\n",
        "ToDo: Talk about Exploratory Data Analysis, dataset source (what is contains, how it will be useful etc.)\n",
        "- Kaggle\n",
        "- Can be useful to prevent accidents\n",
        "- Mention that this does not contain data about New York (** Always look for external data to validate the things we are finding **)\n"
      ]
    },
    {
      "cell_type": "code",
      "execution_count": null,
      "metadata": {
        "id": "5ehqWiAJCyUy"
      },
      "outputs": [],
      "source": [
        ""
      ]
    },
    {
      "cell_type": "markdown",
      "metadata": {
        "id": "Ibs7XrQ6DQOV"
      },
      "source": [
        "## Download The Data"
      ]
    },
    {
      "cell_type": "code",
      "execution_count": 6,
      "metadata": {
        "id": "KgqmZ6CqCxob"
      },
      "outputs": [],
      "source": [
        "pip install opendatasets --upgrade --quiet"
      ]
    },
    {
      "cell_type": "code",
      "execution_count": 7,
      "metadata": {
        "colab": {
          "base_uri": "https://localhost:8080/"
        },
        "id": "5o8hkMN2DYpd",
        "outputId": "7159028c-7a1b-4f86-ac51-48cf12f5c918"
      },
      "outputs": [
        {
          "output_type": "stream",
          "name": "stdout",
          "text": [
            "Please provide your Kaggle credentials to download this dataset. Learn more: http://bit.ly/kaggle-creds\n",
            "Your Kaggle username: aroracharvi\n",
            "Your Kaggle Key: ··········\n",
            "Downloading us-accidents.zip to ./us-accidents\n"
          ]
        },
        {
          "output_type": "stream",
          "name": "stderr",
          "text": [
            "100%|██████████| 269M/269M [00:04<00:00, 58.9MB/s]\n"
          ]
        },
        {
          "output_type": "stream",
          "name": "stdout",
          "text": [
            "\n"
          ]
        }
      ],
      "source": [
        "import opendatasets as od\n",
        "download_url = 'https://www.kaggle.com/datasets/sobhanmoosavi/us-accidents'\n",
        "od.download(download_url)"
      ]
    },
    {
      "cell_type": "code",
      "execution_count": 8,
      "metadata": {
        "id": "cutgbZaRCxVr"
      },
      "outputs": [],
      "source": [
        "data_filename = './us-accidents/US_Accidents_Dec21_updated.csv'"
      ]
    },
    {
      "cell_type": "markdown",
      "metadata": {
        "id": "bdjfTeMFDZci"
      },
      "source": [
        "## Data Preparation & Cleaning \n",
        "- Load the file using pandas\n",
        "- Look at some information about the data and the column\n",
        "- Fix any missing or incorrect values"
      ]
    },
    {
      "cell_type": "code",
      "execution_count": 9,
      "metadata": {
        "id": "msI2QoDCDnLy"
      },
      "outputs": [],
      "source": [
        "import pandas as pd"
      ]
    },
    {
      "cell_type": "code",
      "execution_count": 10,
      "metadata": {
        "id": "F_kR_1ZoDnEl"
      },
      "outputs": [],
      "source": [
        "df = pd.read_csv(data_filename)"
      ]
    },
    {
      "cell_type": "code",
      "execution_count": 11,
      "metadata": {
        "colab": {
          "base_uri": "https://localhost:8080/",
          "height": 939
        },
        "id": "Ip_347p4Dm9k",
        "outputId": "8c696611-9302-4311-cf25-da0767c0b309"
      },
      "outputs": [
        {
          "output_type": "execute_result",
          "data": {
            "text/plain": [
              "                ID  Severity           Start_Time             End_Time  \\\n",
              "0              A-1         3  2016-02-08 00:37:08  2016-02-08 06:37:08   \n",
              "1              A-2         2  2016-02-08 05:56:20  2016-02-08 11:56:20   \n",
              "2              A-3         2  2016-02-08 06:15:39  2016-02-08 12:15:39   \n",
              "3              A-4         2  2016-02-08 06:51:45  2016-02-08 12:51:45   \n",
              "4              A-5         3  2016-02-08 07:53:43  2016-02-08 13:53:43   \n",
              "...            ...       ...                  ...                  ...   \n",
              "2845337  A-2845338         2  2019-08-23 18:03:25  2019-08-23 18:32:01   \n",
              "2845338  A-2845339         2  2019-08-23 19:11:30  2019-08-23 19:38:23   \n",
              "2845339  A-2845340         2  2019-08-23 19:00:21  2019-08-23 19:28:49   \n",
              "2845340  A-2845341         2  2019-08-23 19:00:21  2019-08-23 19:29:42   \n",
              "2845341  A-2845342         2  2019-08-23 18:52:06  2019-08-23 19:21:31   \n",
              "\n",
              "         Start_Lat   Start_Lng    End_Lat     End_Lng  Distance(mi)  \\\n",
              "0        40.108910  -83.092860  40.112060  -83.031870         3.230   \n",
              "1        39.865420  -84.062800  39.865010  -84.048730         0.747   \n",
              "2        39.102660  -84.524680  39.102090  -84.523960         0.055   \n",
              "3        41.062130  -81.537840  41.062170  -81.535470         0.123   \n",
              "4        39.172393  -84.492792  39.170476  -84.501798         0.500   \n",
              "...            ...         ...        ...         ...           ...   \n",
              "2845337  34.002480 -117.379360  33.998880 -117.370940         0.543   \n",
              "2845338  32.766960 -117.148060  32.765550 -117.153630         0.338   \n",
              "2845339  33.775450 -117.847790  33.777400 -117.857270         0.561   \n",
              "2845340  33.992460 -118.403020  33.983110 -118.395650         0.772   \n",
              "2845341  34.133930 -117.230920  34.137360 -117.239340         0.537   \n",
              "\n",
              "                                               Description  ...  Roundabout  \\\n",
              "0        Between Sawmill Rd/Exit 20 and OH-315/Olentang...  ...       False   \n",
              "1                       At OH-4/OH-235/Exit 41 - Accident.  ...       False   \n",
              "2                         At I-71/US-50/Exit 1 - Accident.  ...       False   \n",
              "3                          At Dart Ave/Exit 21 - Accident.  ...       False   \n",
              "4                       At Mitchell Ave/Exit 6 - Accident.  ...       False   \n",
              "...                                                    ...  ...         ...   \n",
              "2845337                           At Market St - Accident.  ...       False   \n",
              "2845338    At Camino Del Rio/Mission Center Rd - Accident.  ...       False   \n",
              "2845339  At Glassell St/Grand Ave - Accident. in the ri...  ...       False   \n",
              "2845340     At CA-90/Marina Fwy/Jefferson Blvd - Accident.  ...       False   \n",
              "2845341              At Highland Ave/Arden Ave - Accident.  ...       False   \n",
              "\n",
              "        Station   Stop Traffic_Calming Traffic_Signal Turning_Loop  \\\n",
              "0         False  False           False          False        False   \n",
              "1         False  False           False          False        False   \n",
              "2         False  False           False          False        False   \n",
              "3         False  False           False          False        False   \n",
              "4         False  False           False          False        False   \n",
              "...         ...    ...             ...            ...          ...   \n",
              "2845337   False  False           False          False        False   \n",
              "2845338   False  False           False          False        False   \n",
              "2845339   False  False           False          False        False   \n",
              "2845340   False  False           False          False        False   \n",
              "2845341   False  False           False          False        False   \n",
              "\n",
              "        Sunrise_Sunset Civil_Twilight Nautical_Twilight Astronomical_Twilight  \n",
              "0                Night          Night             Night                 Night  \n",
              "1                Night          Night             Night                 Night  \n",
              "2                Night          Night             Night                   Day  \n",
              "3                Night          Night               Day                   Day  \n",
              "4                  Day            Day               Day                   Day  \n",
              "...                ...            ...               ...                   ...  \n",
              "2845337            Day            Day               Day                   Day  \n",
              "2845338            Day            Day               Day                   Day  \n",
              "2845339            Day            Day               Day                   Day  \n",
              "2845340            Day            Day               Day                   Day  \n",
              "2845341            Day            Day               Day                   Day  \n",
              "\n",
              "[2845342 rows x 47 columns]"
            ],
            "text/html": [
              "\n",
              "  <div id=\"df-0ff6f236-dc68-46b0-b4d5-df940b903d21\">\n",
              "    <div class=\"colab-df-container\">\n",
              "      <div>\n",
              "<style scoped>\n",
              "    .dataframe tbody tr th:only-of-type {\n",
              "        vertical-align: middle;\n",
              "    }\n",
              "\n",
              "    .dataframe tbody tr th {\n",
              "        vertical-align: top;\n",
              "    }\n",
              "\n",
              "    .dataframe thead th {\n",
              "        text-align: right;\n",
              "    }\n",
              "</style>\n",
              "<table border=\"1\" class=\"dataframe\">\n",
              "  <thead>\n",
              "    <tr style=\"text-align: right;\">\n",
              "      <th></th>\n",
              "      <th>ID</th>\n",
              "      <th>Severity</th>\n",
              "      <th>Start_Time</th>\n",
              "      <th>End_Time</th>\n",
              "      <th>Start_Lat</th>\n",
              "      <th>Start_Lng</th>\n",
              "      <th>End_Lat</th>\n",
              "      <th>End_Lng</th>\n",
              "      <th>Distance(mi)</th>\n",
              "      <th>Description</th>\n",
              "      <th>...</th>\n",
              "      <th>Roundabout</th>\n",
              "      <th>Station</th>\n",
              "      <th>Stop</th>\n",
              "      <th>Traffic_Calming</th>\n",
              "      <th>Traffic_Signal</th>\n",
              "      <th>Turning_Loop</th>\n",
              "      <th>Sunrise_Sunset</th>\n",
              "      <th>Civil_Twilight</th>\n",
              "      <th>Nautical_Twilight</th>\n",
              "      <th>Astronomical_Twilight</th>\n",
              "    </tr>\n",
              "  </thead>\n",
              "  <tbody>\n",
              "    <tr>\n",
              "      <th>0</th>\n",
              "      <td>A-1</td>\n",
              "      <td>3</td>\n",
              "      <td>2016-02-08 00:37:08</td>\n",
              "      <td>2016-02-08 06:37:08</td>\n",
              "      <td>40.108910</td>\n",
              "      <td>-83.092860</td>\n",
              "      <td>40.112060</td>\n",
              "      <td>-83.031870</td>\n",
              "      <td>3.230</td>\n",
              "      <td>Between Sawmill Rd/Exit 20 and OH-315/Olentang...</td>\n",
              "      <td>...</td>\n",
              "      <td>False</td>\n",
              "      <td>False</td>\n",
              "      <td>False</td>\n",
              "      <td>False</td>\n",
              "      <td>False</td>\n",
              "      <td>False</td>\n",
              "      <td>Night</td>\n",
              "      <td>Night</td>\n",
              "      <td>Night</td>\n",
              "      <td>Night</td>\n",
              "    </tr>\n",
              "    <tr>\n",
              "      <th>1</th>\n",
              "      <td>A-2</td>\n",
              "      <td>2</td>\n",
              "      <td>2016-02-08 05:56:20</td>\n",
              "      <td>2016-02-08 11:56:20</td>\n",
              "      <td>39.865420</td>\n",
              "      <td>-84.062800</td>\n",
              "      <td>39.865010</td>\n",
              "      <td>-84.048730</td>\n",
              "      <td>0.747</td>\n",
              "      <td>At OH-4/OH-235/Exit 41 - Accident.</td>\n",
              "      <td>...</td>\n",
              "      <td>False</td>\n",
              "      <td>False</td>\n",
              "      <td>False</td>\n",
              "      <td>False</td>\n",
              "      <td>False</td>\n",
              "      <td>False</td>\n",
              "      <td>Night</td>\n",
              "      <td>Night</td>\n",
              "      <td>Night</td>\n",
              "      <td>Night</td>\n",
              "    </tr>\n",
              "    <tr>\n",
              "      <th>2</th>\n",
              "      <td>A-3</td>\n",
              "      <td>2</td>\n",
              "      <td>2016-02-08 06:15:39</td>\n",
              "      <td>2016-02-08 12:15:39</td>\n",
              "      <td>39.102660</td>\n",
              "      <td>-84.524680</td>\n",
              "      <td>39.102090</td>\n",
              "      <td>-84.523960</td>\n",
              "      <td>0.055</td>\n",
              "      <td>At I-71/US-50/Exit 1 - Accident.</td>\n",
              "      <td>...</td>\n",
              "      <td>False</td>\n",
              "      <td>False</td>\n",
              "      <td>False</td>\n",
              "      <td>False</td>\n",
              "      <td>False</td>\n",
              "      <td>False</td>\n",
              "      <td>Night</td>\n",
              "      <td>Night</td>\n",
              "      <td>Night</td>\n",
              "      <td>Day</td>\n",
              "    </tr>\n",
              "    <tr>\n",
              "      <th>3</th>\n",
              "      <td>A-4</td>\n",
              "      <td>2</td>\n",
              "      <td>2016-02-08 06:51:45</td>\n",
              "      <td>2016-02-08 12:51:45</td>\n",
              "      <td>41.062130</td>\n",
              "      <td>-81.537840</td>\n",
              "      <td>41.062170</td>\n",
              "      <td>-81.535470</td>\n",
              "      <td>0.123</td>\n",
              "      <td>At Dart Ave/Exit 21 - Accident.</td>\n",
              "      <td>...</td>\n",
              "      <td>False</td>\n",
              "      <td>False</td>\n",
              "      <td>False</td>\n",
              "      <td>False</td>\n",
              "      <td>False</td>\n",
              "      <td>False</td>\n",
              "      <td>Night</td>\n",
              "      <td>Night</td>\n",
              "      <td>Day</td>\n",
              "      <td>Day</td>\n",
              "    </tr>\n",
              "    <tr>\n",
              "      <th>4</th>\n",
              "      <td>A-5</td>\n",
              "      <td>3</td>\n",
              "      <td>2016-02-08 07:53:43</td>\n",
              "      <td>2016-02-08 13:53:43</td>\n",
              "      <td>39.172393</td>\n",
              "      <td>-84.492792</td>\n",
              "      <td>39.170476</td>\n",
              "      <td>-84.501798</td>\n",
              "      <td>0.500</td>\n",
              "      <td>At Mitchell Ave/Exit 6 - Accident.</td>\n",
              "      <td>...</td>\n",
              "      <td>False</td>\n",
              "      <td>False</td>\n",
              "      <td>False</td>\n",
              "      <td>False</td>\n",
              "      <td>False</td>\n",
              "      <td>False</td>\n",
              "      <td>Day</td>\n",
              "      <td>Day</td>\n",
              "      <td>Day</td>\n",
              "      <td>Day</td>\n",
              "    </tr>\n",
              "    <tr>\n",
              "      <th>...</th>\n",
              "      <td>...</td>\n",
              "      <td>...</td>\n",
              "      <td>...</td>\n",
              "      <td>...</td>\n",
              "      <td>...</td>\n",
              "      <td>...</td>\n",
              "      <td>...</td>\n",
              "      <td>...</td>\n",
              "      <td>...</td>\n",
              "      <td>...</td>\n",
              "      <td>...</td>\n",
              "      <td>...</td>\n",
              "      <td>...</td>\n",
              "      <td>...</td>\n",
              "      <td>...</td>\n",
              "      <td>...</td>\n",
              "      <td>...</td>\n",
              "      <td>...</td>\n",
              "      <td>...</td>\n",
              "      <td>...</td>\n",
              "      <td>...</td>\n",
              "    </tr>\n",
              "    <tr>\n",
              "      <th>2845337</th>\n",
              "      <td>A-2845338</td>\n",
              "      <td>2</td>\n",
              "      <td>2019-08-23 18:03:25</td>\n",
              "      <td>2019-08-23 18:32:01</td>\n",
              "      <td>34.002480</td>\n",
              "      <td>-117.379360</td>\n",
              "      <td>33.998880</td>\n",
              "      <td>-117.370940</td>\n",
              "      <td>0.543</td>\n",
              "      <td>At Market St - Accident.</td>\n",
              "      <td>...</td>\n",
              "      <td>False</td>\n",
              "      <td>False</td>\n",
              "      <td>False</td>\n",
              "      <td>False</td>\n",
              "      <td>False</td>\n",
              "      <td>False</td>\n",
              "      <td>Day</td>\n",
              "      <td>Day</td>\n",
              "      <td>Day</td>\n",
              "      <td>Day</td>\n",
              "    </tr>\n",
              "    <tr>\n",
              "      <th>2845338</th>\n",
              "      <td>A-2845339</td>\n",
              "      <td>2</td>\n",
              "      <td>2019-08-23 19:11:30</td>\n",
              "      <td>2019-08-23 19:38:23</td>\n",
              "      <td>32.766960</td>\n",
              "      <td>-117.148060</td>\n",
              "      <td>32.765550</td>\n",
              "      <td>-117.153630</td>\n",
              "      <td>0.338</td>\n",
              "      <td>At Camino Del Rio/Mission Center Rd - Accident.</td>\n",
              "      <td>...</td>\n",
              "      <td>False</td>\n",
              "      <td>False</td>\n",
              "      <td>False</td>\n",
              "      <td>False</td>\n",
              "      <td>False</td>\n",
              "      <td>False</td>\n",
              "      <td>Day</td>\n",
              "      <td>Day</td>\n",
              "      <td>Day</td>\n",
              "      <td>Day</td>\n",
              "    </tr>\n",
              "    <tr>\n",
              "      <th>2845339</th>\n",
              "      <td>A-2845340</td>\n",
              "      <td>2</td>\n",
              "      <td>2019-08-23 19:00:21</td>\n",
              "      <td>2019-08-23 19:28:49</td>\n",
              "      <td>33.775450</td>\n",
              "      <td>-117.847790</td>\n",
              "      <td>33.777400</td>\n",
              "      <td>-117.857270</td>\n",
              "      <td>0.561</td>\n",
              "      <td>At Glassell St/Grand Ave - Accident. in the ri...</td>\n",
              "      <td>...</td>\n",
              "      <td>False</td>\n",
              "      <td>False</td>\n",
              "      <td>False</td>\n",
              "      <td>False</td>\n",
              "      <td>False</td>\n",
              "      <td>False</td>\n",
              "      <td>Day</td>\n",
              "      <td>Day</td>\n",
              "      <td>Day</td>\n",
              "      <td>Day</td>\n",
              "    </tr>\n",
              "    <tr>\n",
              "      <th>2845340</th>\n",
              "      <td>A-2845341</td>\n",
              "      <td>2</td>\n",
              "      <td>2019-08-23 19:00:21</td>\n",
              "      <td>2019-08-23 19:29:42</td>\n",
              "      <td>33.992460</td>\n",
              "      <td>-118.403020</td>\n",
              "      <td>33.983110</td>\n",
              "      <td>-118.395650</td>\n",
              "      <td>0.772</td>\n",
              "      <td>At CA-90/Marina Fwy/Jefferson Blvd - Accident.</td>\n",
              "      <td>...</td>\n",
              "      <td>False</td>\n",
              "      <td>False</td>\n",
              "      <td>False</td>\n",
              "      <td>False</td>\n",
              "      <td>False</td>\n",
              "      <td>False</td>\n",
              "      <td>Day</td>\n",
              "      <td>Day</td>\n",
              "      <td>Day</td>\n",
              "      <td>Day</td>\n",
              "    </tr>\n",
              "    <tr>\n",
              "      <th>2845341</th>\n",
              "      <td>A-2845342</td>\n",
              "      <td>2</td>\n",
              "      <td>2019-08-23 18:52:06</td>\n",
              "      <td>2019-08-23 19:21:31</td>\n",
              "      <td>34.133930</td>\n",
              "      <td>-117.230920</td>\n",
              "      <td>34.137360</td>\n",
              "      <td>-117.239340</td>\n",
              "      <td>0.537</td>\n",
              "      <td>At Highland Ave/Arden Ave - Accident.</td>\n",
              "      <td>...</td>\n",
              "      <td>False</td>\n",
              "      <td>False</td>\n",
              "      <td>False</td>\n",
              "      <td>False</td>\n",
              "      <td>False</td>\n",
              "      <td>False</td>\n",
              "      <td>Day</td>\n",
              "      <td>Day</td>\n",
              "      <td>Day</td>\n",
              "      <td>Day</td>\n",
              "    </tr>\n",
              "  </tbody>\n",
              "</table>\n",
              "<p>2845342 rows × 47 columns</p>\n",
              "</div>\n",
              "      <button class=\"colab-df-convert\" onclick=\"convertToInteractive('df-0ff6f236-dc68-46b0-b4d5-df940b903d21')\"\n",
              "              title=\"Convert this dataframe to an interactive table.\"\n",
              "              style=\"display:none;\">\n",
              "        \n",
              "  <svg xmlns=\"http://www.w3.org/2000/svg\" height=\"24px\"viewBox=\"0 0 24 24\"\n",
              "       width=\"24px\">\n",
              "    <path d=\"M0 0h24v24H0V0z\" fill=\"none\"/>\n",
              "    <path d=\"M18.56 5.44l.94 2.06.94-2.06 2.06-.94-2.06-.94-.94-2.06-.94 2.06-2.06.94zm-11 1L8.5 8.5l.94-2.06 2.06-.94-2.06-.94L8.5 2.5l-.94 2.06-2.06.94zm10 10l.94 2.06.94-2.06 2.06-.94-2.06-.94-.94-2.06-.94 2.06-2.06.94z\"/><path d=\"M17.41 7.96l-1.37-1.37c-.4-.4-.92-.59-1.43-.59-.52 0-1.04.2-1.43.59L10.3 9.45l-7.72 7.72c-.78.78-.78 2.05 0 2.83L4 21.41c.39.39.9.59 1.41.59.51 0 1.02-.2 1.41-.59l7.78-7.78 2.81-2.81c.8-.78.8-2.07 0-2.86zM5.41 20L4 18.59l7.72-7.72 1.47 1.35L5.41 20z\"/>\n",
              "  </svg>\n",
              "      </button>\n",
              "      \n",
              "  <style>\n",
              "    .colab-df-container {\n",
              "      display:flex;\n",
              "      flex-wrap:wrap;\n",
              "      gap: 12px;\n",
              "    }\n",
              "\n",
              "    .colab-df-convert {\n",
              "      background-color: #E8F0FE;\n",
              "      border: none;\n",
              "      border-radius: 50%;\n",
              "      cursor: pointer;\n",
              "      display: none;\n",
              "      fill: #1967D2;\n",
              "      height: 32px;\n",
              "      padding: 0 0 0 0;\n",
              "      width: 32px;\n",
              "    }\n",
              "\n",
              "    .colab-df-convert:hover {\n",
              "      background-color: #E2EBFA;\n",
              "      box-shadow: 0px 1px 2px rgba(60, 64, 67, 0.3), 0px 1px 3px 1px rgba(60, 64, 67, 0.15);\n",
              "      fill: #174EA6;\n",
              "    }\n",
              "\n",
              "    [theme=dark] .colab-df-convert {\n",
              "      background-color: #3B4455;\n",
              "      fill: #D2E3FC;\n",
              "    }\n",
              "\n",
              "    [theme=dark] .colab-df-convert:hover {\n",
              "      background-color: #434B5C;\n",
              "      box-shadow: 0px 1px 3px 1px rgba(0, 0, 0, 0.15);\n",
              "      filter: drop-shadow(0px 1px 2px rgba(0, 0, 0, 0.3));\n",
              "      fill: #FFFFFF;\n",
              "    }\n",
              "  </style>\n",
              "\n",
              "      <script>\n",
              "        const buttonEl =\n",
              "          document.querySelector('#df-0ff6f236-dc68-46b0-b4d5-df940b903d21 button.colab-df-convert');\n",
              "        buttonEl.style.display =\n",
              "          google.colab.kernel.accessAllowed ? 'block' : 'none';\n",
              "\n",
              "        async function convertToInteractive(key) {\n",
              "          const element = document.querySelector('#df-0ff6f236-dc68-46b0-b4d5-df940b903d21');\n",
              "          const dataTable =\n",
              "            await google.colab.kernel.invokeFunction('convertToInteractive',\n",
              "                                                     [key], {});\n",
              "          if (!dataTable) return;\n",
              "\n",
              "          const docLinkHtml = 'Like what you see? Visit the ' +\n",
              "            '<a target=\"_blank\" href=https://colab.research.google.com/notebooks/data_table.ipynb>data table notebook</a>'\n",
              "            + ' to learn more about interactive tables.';\n",
              "          element.innerHTML = '';\n",
              "          dataTable['output_type'] = 'display_data';\n",
              "          await google.colab.output.renderOutput(dataTable, element);\n",
              "          const docLink = document.createElement('div');\n",
              "          docLink.innerHTML = docLinkHtml;\n",
              "          element.appendChild(docLink);\n",
              "        }\n",
              "      </script>\n",
              "    </div>\n",
              "  </div>\n",
              "  "
            ]
          },
          "metadata": {},
          "execution_count": 11
        }
      ],
      "source": [
        "df"
      ]
    },
    {
      "cell_type": "code",
      "execution_count": null,
      "metadata": {
        "colab": {
          "background_save": true
        },
        "id": "3OIESUM0wHAz"
      },
      "outputs": [],
      "source": [
        ""
      ]
    },
    {
      "cell_type": "code",
      "execution_count": 12,
      "metadata": {
        "colab": {
          "base_uri": "https://localhost:8080/"
        },
        "id": "RJhuVdetwG-R",
        "outputId": "36b00471-df56-48a9-f15d-5ad08ecec53c"
      },
      "outputs": [
        {
          "output_type": "execute_result",
          "data": {
            "text/plain": [
              "Index(['ID', 'Severity', 'Start_Time', 'End_Time', 'Start_Lat', 'Start_Lng',\n",
              "       'End_Lat', 'End_Lng', 'Distance(mi)', 'Description', 'Number', 'Street',\n",
              "       'Side', 'City', 'County', 'State', 'Zipcode', 'Country', 'Timezone',\n",
              "       'Airport_Code', 'Weather_Timestamp', 'Temperature(F)', 'Wind_Chill(F)',\n",
              "       'Humidity(%)', 'Pressure(in)', 'Visibility(mi)', 'Wind_Direction',\n",
              "       'Wind_Speed(mph)', 'Precipitation(in)', 'Weather_Condition', 'Amenity',\n",
              "       'Bump', 'Crossing', 'Give_Way', 'Junction', 'No_Exit', 'Railway',\n",
              "       'Roundabout', 'Station', 'Stop', 'Traffic_Calming', 'Traffic_Signal',\n",
              "       'Turning_Loop', 'Sunrise_Sunset', 'Civil_Twilight', 'Nautical_Twilight',\n",
              "       'Astronomical_Twilight'],\n",
              "      dtype='object')"
            ]
          },
          "metadata": {},
          "execution_count": 12
        }
      ],
      "source": [
        "df.columns"
      ]
    },
    {
      "cell_type": "code",
      "execution_count": 13,
      "metadata": {
        "colab": {
          "base_uri": "https://localhost:8080/"
        },
        "id": "WkjMWVQtwG65",
        "outputId": "65cf1374-c1ab-4ad0-f32b-da886cca09be"
      },
      "outputs": [
        {
          "output_type": "execute_result",
          "data": {
            "text/plain": [
              "47"
            ]
          },
          "metadata": {},
          "execution_count": 13
        }
      ],
      "source": [
        "len(df.columns)"
      ]
    },
    {
      "cell_type": "code",
      "execution_count": 14,
      "metadata": {
        "colab": {
          "base_uri": "https://localhost:8080/"
        },
        "id": "ixuA3ULbwG3J",
        "outputId": "3885341c-193b-40f5-9ed2-84511a1da89f"
      },
      "outputs": [
        {
          "output_type": "execute_result",
          "data": {
            "text/plain": [
              "2845342"
            ]
          },
          "metadata": {},
          "execution_count": 14
        }
      ],
      "source": [
        "len(df)"
      ]
    },
    {
      "cell_type": "code",
      "execution_count": 15,
      "metadata": {
        "colab": {
          "base_uri": "https://localhost:8080/"
        },
        "id": "8FXhLY7ZwXaH",
        "outputId": "f00bbb4a-2378-4732-eb7e-72945a73e4b8"
      },
      "outputs": [
        {
          "output_type": "stream",
          "name": "stdout",
          "text": [
            "<class 'pandas.core.frame.DataFrame'>\n",
            "RangeIndex: 2845342 entries, 0 to 2845341\n",
            "Data columns (total 47 columns):\n",
            " #   Column                 Dtype  \n",
            "---  ------                 -----  \n",
            " 0   ID                     object \n",
            " 1   Severity               int64  \n",
            " 2   Start_Time             object \n",
            " 3   End_Time               object \n",
            " 4   Start_Lat              float64\n",
            " 5   Start_Lng              float64\n",
            " 6   End_Lat                float64\n",
            " 7   End_Lng                float64\n",
            " 8   Distance(mi)           float64\n",
            " 9   Description            object \n",
            " 10  Number                 float64\n",
            " 11  Street                 object \n",
            " 12  Side                   object \n",
            " 13  City                   object \n",
            " 14  County                 object \n",
            " 15  State                  object \n",
            " 16  Zipcode                object \n",
            " 17  Country                object \n",
            " 18  Timezone               object \n",
            " 19  Airport_Code           object \n",
            " 20  Weather_Timestamp      object \n",
            " 21  Temperature(F)         float64\n",
            " 22  Wind_Chill(F)          float64\n",
            " 23  Humidity(%)            float64\n",
            " 24  Pressure(in)           float64\n",
            " 25  Visibility(mi)         float64\n",
            " 26  Wind_Direction         object \n",
            " 27  Wind_Speed(mph)        float64\n",
            " 28  Precipitation(in)      float64\n",
            " 29  Weather_Condition      object \n",
            " 30  Amenity                bool   \n",
            " 31  Bump                   bool   \n",
            " 32  Crossing               bool   \n",
            " 33  Give_Way               bool   \n",
            " 34  Junction               bool   \n",
            " 35  No_Exit                bool   \n",
            " 36  Railway                bool   \n",
            " 37  Roundabout             bool   \n",
            " 38  Station                bool   \n",
            " 39  Stop                   bool   \n",
            " 40  Traffic_Calming        bool   \n",
            " 41  Traffic_Signal         bool   \n",
            " 42  Turning_Loop           bool   \n",
            " 43  Sunrise_Sunset         object \n",
            " 44  Civil_Twilight         object \n",
            " 45  Nautical_Twilight      object \n",
            " 46  Astronomical_Twilight  object \n",
            "dtypes: bool(13), float64(13), int64(1), object(20)\n",
            "memory usage: 773.4+ MB\n"
          ]
        }
      ],
      "source": [
        "df.info()"
      ]
    },
    {
      "cell_type": "code",
      "execution_count": 16,
      "metadata": {
        "colab": {
          "base_uri": "https://localhost:8080/",
          "height": 364
        },
        "id": "jzPmY2FewqG5",
        "outputId": "eec21d49-78d7-41e5-cfd9-7419ad18d0cb"
      },
      "outputs": [
        {
          "output_type": "execute_result",
          "data": {
            "text/plain": [
              "           Severity     Start_Lat     Start_Lng       End_Lat       End_Lng  \\\n",
              "count  2.845342e+06  2.845342e+06  2.845342e+06  2.845342e+06  2.845342e+06   \n",
              "mean   2.137572e+00  3.624520e+01 -9.711463e+01  3.624532e+01 -9.711439e+01   \n",
              "std    4.787216e-01  5.363797e+00  1.831782e+01  5.363873e+00  1.831763e+01   \n",
              "min    1.000000e+00  2.456603e+01 -1.245481e+02  2.456601e+01 -1.245457e+02   \n",
              "25%    2.000000e+00  3.344517e+01 -1.180331e+02  3.344628e+01 -1.180333e+02   \n",
              "50%    2.000000e+00  3.609861e+01 -9.241808e+01  3.609799e+01 -9.241772e+01   \n",
              "75%    2.000000e+00  4.016024e+01 -8.037243e+01  4.016105e+01 -8.037338e+01   \n",
              "max    4.000000e+00  4.900058e+01 -6.711317e+01  4.907500e+01 -6.710924e+01   \n",
              "\n",
              "       Distance(mi)        Number  Temperature(F)  Wind_Chill(F)  \\\n",
              "count  2.845342e+06  1.101431e+06    2.776068e+06   2.375699e+06   \n",
              "mean   7.026779e-01  8.089408e+03    6.179356e+01   5.965823e+01   \n",
              "std    1.560361e+00  1.836009e+04    1.862263e+01   2.116097e+01   \n",
              "min    0.000000e+00  0.000000e+00   -8.900000e+01  -8.900000e+01   \n",
              "25%    5.200000e-02  1.270000e+03    5.000000e+01   4.600000e+01   \n",
              "50%    2.440000e-01  4.007000e+03    6.400000e+01   6.300000e+01   \n",
              "75%    7.640000e-01  9.567000e+03    7.600000e+01   7.600000e+01   \n",
              "max    1.551860e+02  9.999997e+06    1.960000e+02   1.960000e+02   \n",
              "\n",
              "        Humidity(%)  Pressure(in)  Visibility(mi)  Wind_Speed(mph)  \\\n",
              "count  2.772250e+06  2.786142e+06    2.774796e+06     2.687398e+06   \n",
              "mean   6.436545e+01  2.947234e+01    9.099391e+00     7.395044e+00   \n",
              "std    2.287457e+01  1.045286e+00    2.717546e+00     5.527454e+00   \n",
              "min    1.000000e+00  0.000000e+00    0.000000e+00     0.000000e+00   \n",
              "25%    4.800000e+01  2.931000e+01    1.000000e+01     3.500000e+00   \n",
              "50%    6.700000e+01  2.982000e+01    1.000000e+01     7.000000e+00   \n",
              "75%    8.300000e+01  3.001000e+01    1.000000e+01     1.000000e+01   \n",
              "max    1.000000e+02  5.890000e+01    1.400000e+02     1.087000e+03   \n",
              "\n",
              "       Precipitation(in)  \n",
              "count       2.295884e+06  \n",
              "mean        7.016940e-03  \n",
              "std         9.348831e-02  \n",
              "min         0.000000e+00  \n",
              "25%         0.000000e+00  \n",
              "50%         0.000000e+00  \n",
              "75%         0.000000e+00  \n",
              "max         2.400000e+01  "
            ],
            "text/html": [
              "\n",
              "  <div id=\"df-530a1a36-ce13-46d8-b19b-7bd41eff3888\">\n",
              "    <div class=\"colab-df-container\">\n",
              "      <div>\n",
              "<style scoped>\n",
              "    .dataframe tbody tr th:only-of-type {\n",
              "        vertical-align: middle;\n",
              "    }\n",
              "\n",
              "    .dataframe tbody tr th {\n",
              "        vertical-align: top;\n",
              "    }\n",
              "\n",
              "    .dataframe thead th {\n",
              "        text-align: right;\n",
              "    }\n",
              "</style>\n",
              "<table border=\"1\" class=\"dataframe\">\n",
              "  <thead>\n",
              "    <tr style=\"text-align: right;\">\n",
              "      <th></th>\n",
              "      <th>Severity</th>\n",
              "      <th>Start_Lat</th>\n",
              "      <th>Start_Lng</th>\n",
              "      <th>End_Lat</th>\n",
              "      <th>End_Lng</th>\n",
              "      <th>Distance(mi)</th>\n",
              "      <th>Number</th>\n",
              "      <th>Temperature(F)</th>\n",
              "      <th>Wind_Chill(F)</th>\n",
              "      <th>Humidity(%)</th>\n",
              "      <th>Pressure(in)</th>\n",
              "      <th>Visibility(mi)</th>\n",
              "      <th>Wind_Speed(mph)</th>\n",
              "      <th>Precipitation(in)</th>\n",
              "    </tr>\n",
              "  </thead>\n",
              "  <tbody>\n",
              "    <tr>\n",
              "      <th>count</th>\n",
              "      <td>2.845342e+06</td>\n",
              "      <td>2.845342e+06</td>\n",
              "      <td>2.845342e+06</td>\n",
              "      <td>2.845342e+06</td>\n",
              "      <td>2.845342e+06</td>\n",
              "      <td>2.845342e+06</td>\n",
              "      <td>1.101431e+06</td>\n",
              "      <td>2.776068e+06</td>\n",
              "      <td>2.375699e+06</td>\n",
              "      <td>2.772250e+06</td>\n",
              "      <td>2.786142e+06</td>\n",
              "      <td>2.774796e+06</td>\n",
              "      <td>2.687398e+06</td>\n",
              "      <td>2.295884e+06</td>\n",
              "    </tr>\n",
              "    <tr>\n",
              "      <th>mean</th>\n",
              "      <td>2.137572e+00</td>\n",
              "      <td>3.624520e+01</td>\n",
              "      <td>-9.711463e+01</td>\n",
              "      <td>3.624532e+01</td>\n",
              "      <td>-9.711439e+01</td>\n",
              "      <td>7.026779e-01</td>\n",
              "      <td>8.089408e+03</td>\n",
              "      <td>6.179356e+01</td>\n",
              "      <td>5.965823e+01</td>\n",
              "      <td>6.436545e+01</td>\n",
              "      <td>2.947234e+01</td>\n",
              "      <td>9.099391e+00</td>\n",
              "      <td>7.395044e+00</td>\n",
              "      <td>7.016940e-03</td>\n",
              "    </tr>\n",
              "    <tr>\n",
              "      <th>std</th>\n",
              "      <td>4.787216e-01</td>\n",
              "      <td>5.363797e+00</td>\n",
              "      <td>1.831782e+01</td>\n",
              "      <td>5.363873e+00</td>\n",
              "      <td>1.831763e+01</td>\n",
              "      <td>1.560361e+00</td>\n",
              "      <td>1.836009e+04</td>\n",
              "      <td>1.862263e+01</td>\n",
              "      <td>2.116097e+01</td>\n",
              "      <td>2.287457e+01</td>\n",
              "      <td>1.045286e+00</td>\n",
              "      <td>2.717546e+00</td>\n",
              "      <td>5.527454e+00</td>\n",
              "      <td>9.348831e-02</td>\n",
              "    </tr>\n",
              "    <tr>\n",
              "      <th>min</th>\n",
              "      <td>1.000000e+00</td>\n",
              "      <td>2.456603e+01</td>\n",
              "      <td>-1.245481e+02</td>\n",
              "      <td>2.456601e+01</td>\n",
              "      <td>-1.245457e+02</td>\n",
              "      <td>0.000000e+00</td>\n",
              "      <td>0.000000e+00</td>\n",
              "      <td>-8.900000e+01</td>\n",
              "      <td>-8.900000e+01</td>\n",
              "      <td>1.000000e+00</td>\n",
              "      <td>0.000000e+00</td>\n",
              "      <td>0.000000e+00</td>\n",
              "      <td>0.000000e+00</td>\n",
              "      <td>0.000000e+00</td>\n",
              "    </tr>\n",
              "    <tr>\n",
              "      <th>25%</th>\n",
              "      <td>2.000000e+00</td>\n",
              "      <td>3.344517e+01</td>\n",
              "      <td>-1.180331e+02</td>\n",
              "      <td>3.344628e+01</td>\n",
              "      <td>-1.180333e+02</td>\n",
              "      <td>5.200000e-02</td>\n",
              "      <td>1.270000e+03</td>\n",
              "      <td>5.000000e+01</td>\n",
              "      <td>4.600000e+01</td>\n",
              "      <td>4.800000e+01</td>\n",
              "      <td>2.931000e+01</td>\n",
              "      <td>1.000000e+01</td>\n",
              "      <td>3.500000e+00</td>\n",
              "      <td>0.000000e+00</td>\n",
              "    </tr>\n",
              "    <tr>\n",
              "      <th>50%</th>\n",
              "      <td>2.000000e+00</td>\n",
              "      <td>3.609861e+01</td>\n",
              "      <td>-9.241808e+01</td>\n",
              "      <td>3.609799e+01</td>\n",
              "      <td>-9.241772e+01</td>\n",
              "      <td>2.440000e-01</td>\n",
              "      <td>4.007000e+03</td>\n",
              "      <td>6.400000e+01</td>\n",
              "      <td>6.300000e+01</td>\n",
              "      <td>6.700000e+01</td>\n",
              "      <td>2.982000e+01</td>\n",
              "      <td>1.000000e+01</td>\n",
              "      <td>7.000000e+00</td>\n",
              "      <td>0.000000e+00</td>\n",
              "    </tr>\n",
              "    <tr>\n",
              "      <th>75%</th>\n",
              "      <td>2.000000e+00</td>\n",
              "      <td>4.016024e+01</td>\n",
              "      <td>-8.037243e+01</td>\n",
              "      <td>4.016105e+01</td>\n",
              "      <td>-8.037338e+01</td>\n",
              "      <td>7.640000e-01</td>\n",
              "      <td>9.567000e+03</td>\n",
              "      <td>7.600000e+01</td>\n",
              "      <td>7.600000e+01</td>\n",
              "      <td>8.300000e+01</td>\n",
              "      <td>3.001000e+01</td>\n",
              "      <td>1.000000e+01</td>\n",
              "      <td>1.000000e+01</td>\n",
              "      <td>0.000000e+00</td>\n",
              "    </tr>\n",
              "    <tr>\n",
              "      <th>max</th>\n",
              "      <td>4.000000e+00</td>\n",
              "      <td>4.900058e+01</td>\n",
              "      <td>-6.711317e+01</td>\n",
              "      <td>4.907500e+01</td>\n",
              "      <td>-6.710924e+01</td>\n",
              "      <td>1.551860e+02</td>\n",
              "      <td>9.999997e+06</td>\n",
              "      <td>1.960000e+02</td>\n",
              "      <td>1.960000e+02</td>\n",
              "      <td>1.000000e+02</td>\n",
              "      <td>5.890000e+01</td>\n",
              "      <td>1.400000e+02</td>\n",
              "      <td>1.087000e+03</td>\n",
              "      <td>2.400000e+01</td>\n",
              "    </tr>\n",
              "  </tbody>\n",
              "</table>\n",
              "</div>\n",
              "      <button class=\"colab-df-convert\" onclick=\"convertToInteractive('df-530a1a36-ce13-46d8-b19b-7bd41eff3888')\"\n",
              "              title=\"Convert this dataframe to an interactive table.\"\n",
              "              style=\"display:none;\">\n",
              "        \n",
              "  <svg xmlns=\"http://www.w3.org/2000/svg\" height=\"24px\"viewBox=\"0 0 24 24\"\n",
              "       width=\"24px\">\n",
              "    <path d=\"M0 0h24v24H0V0z\" fill=\"none\"/>\n",
              "    <path d=\"M18.56 5.44l.94 2.06.94-2.06 2.06-.94-2.06-.94-.94-2.06-.94 2.06-2.06.94zm-11 1L8.5 8.5l.94-2.06 2.06-.94-2.06-.94L8.5 2.5l-.94 2.06-2.06.94zm10 10l.94 2.06.94-2.06 2.06-.94-2.06-.94-.94-2.06-.94 2.06-2.06.94z\"/><path d=\"M17.41 7.96l-1.37-1.37c-.4-.4-.92-.59-1.43-.59-.52 0-1.04.2-1.43.59L10.3 9.45l-7.72 7.72c-.78.78-.78 2.05 0 2.83L4 21.41c.39.39.9.59 1.41.59.51 0 1.02-.2 1.41-.59l7.78-7.78 2.81-2.81c.8-.78.8-2.07 0-2.86zM5.41 20L4 18.59l7.72-7.72 1.47 1.35L5.41 20z\"/>\n",
              "  </svg>\n",
              "      </button>\n",
              "      \n",
              "  <style>\n",
              "    .colab-df-container {\n",
              "      display:flex;\n",
              "      flex-wrap:wrap;\n",
              "      gap: 12px;\n",
              "    }\n",
              "\n",
              "    .colab-df-convert {\n",
              "      background-color: #E8F0FE;\n",
              "      border: none;\n",
              "      border-radius: 50%;\n",
              "      cursor: pointer;\n",
              "      display: none;\n",
              "      fill: #1967D2;\n",
              "      height: 32px;\n",
              "      padding: 0 0 0 0;\n",
              "      width: 32px;\n",
              "    }\n",
              "\n",
              "    .colab-df-convert:hover {\n",
              "      background-color: #E2EBFA;\n",
              "      box-shadow: 0px 1px 2px rgba(60, 64, 67, 0.3), 0px 1px 3px 1px rgba(60, 64, 67, 0.15);\n",
              "      fill: #174EA6;\n",
              "    }\n",
              "\n",
              "    [theme=dark] .colab-df-convert {\n",
              "      background-color: #3B4455;\n",
              "      fill: #D2E3FC;\n",
              "    }\n",
              "\n",
              "    [theme=dark] .colab-df-convert:hover {\n",
              "      background-color: #434B5C;\n",
              "      box-shadow: 0px 1px 3px 1px rgba(0, 0, 0, 0.15);\n",
              "      filter: drop-shadow(0px 1px 2px rgba(0, 0, 0, 0.3));\n",
              "      fill: #FFFFFF;\n",
              "    }\n",
              "  </style>\n",
              "\n",
              "      <script>\n",
              "        const buttonEl =\n",
              "          document.querySelector('#df-530a1a36-ce13-46d8-b19b-7bd41eff3888 button.colab-df-convert');\n",
              "        buttonEl.style.display =\n",
              "          google.colab.kernel.accessAllowed ? 'block' : 'none';\n",
              "\n",
              "        async function convertToInteractive(key) {\n",
              "          const element = document.querySelector('#df-530a1a36-ce13-46d8-b19b-7bd41eff3888');\n",
              "          const dataTable =\n",
              "            await google.colab.kernel.invokeFunction('convertToInteractive',\n",
              "                                                     [key], {});\n",
              "          if (!dataTable) return;\n",
              "\n",
              "          const docLinkHtml = 'Like what you see? Visit the ' +\n",
              "            '<a target=\"_blank\" href=https://colab.research.google.com/notebooks/data_table.ipynb>data table notebook</a>'\n",
              "            + ' to learn more about interactive tables.';\n",
              "          element.innerHTML = '';\n",
              "          dataTable['output_type'] = 'display_data';\n",
              "          await google.colab.output.renderOutput(dataTable, element);\n",
              "          const docLink = document.createElement('div');\n",
              "          docLink.innerHTML = docLinkHtml;\n",
              "          element.appendChild(docLink);\n",
              "        }\n",
              "      </script>\n",
              "    </div>\n",
              "  </div>\n",
              "  "
            ]
          },
          "metadata": {},
          "execution_count": 16
        }
      ],
      "source": [
        "df.describe()"
      ]
    },
    {
      "cell_type": "code",
      "execution_count": 17,
      "metadata": {
        "colab": {
          "base_uri": "https://localhost:8080/"
        },
        "id": "yFHllkynysFu",
        "outputId": "bfcfbb4e-8798-4f52-9cfb-dc53e632a8d9"
      },
      "outputs": [
        {
          "output_type": "execute_result",
          "data": {
            "text/plain": [
              "14"
            ]
          },
          "metadata": {},
          "execution_count": 17
        }
      ],
      "source": [
        "numerics = ['int16', 'int32', 'int64', 'float16', 'float32', 'float64']\n",
        "\n",
        "numeric_df = df.select_dtypes(include=numerics)\n",
        "len(numeric_df.columns)"
      ]
    },
    {
      "cell_type": "markdown",
      "metadata": {
        "id": "5ESY3c0L00FA"
      },
      "source": [
        "- using df.isna we find that each value is replace by true/false. True: if the value is NA/null/empty and False: if the value exist\n",
        "- isna.sum(): give the count of missing values per column9\n",
        "- For % of missing values per column we sort it in descending : df.isna().sum().sort_values(ascending = False)/len(df)\n",
        "- from missing_percentage we can remove anything which is >0\n",
        "\n",
        "\n",
        "\n",
        "\n",
        "\n",
        "\n",
        "\n",
        "\n",
        "-"
      ]
    },
    {
      "cell_type": "code",
      "execution_count": 18,
      "metadata": {
        "colab": {
          "base_uri": "https://localhost:8080/"
        },
        "id": "Xk6JkvmozrnY",
        "outputId": "5f098fa6-9d8f-49f2-c017-1d6b8878efc6"
      },
      "outputs": [
        {
          "output_type": "execute_result",
          "data": {
            "text/plain": [
              "Number                   6.129003e-01\n",
              "Precipitation(in)        1.931079e-01\n",
              "Wind_Chill(F)            1.650568e-01\n",
              "Wind_Speed(mph)          5.550967e-02\n",
              "Wind_Direction           2.592834e-02\n",
              "Humidity(%)              2.568830e-02\n",
              "Weather_Condition        2.482514e-02\n",
              "Visibility(mi)           2.479350e-02\n",
              "Temperature(F)           2.434646e-02\n",
              "Pressure(in)             2.080593e-02\n",
              "Weather_Timestamp        1.783125e-02\n",
              "Airport_Code             3.356011e-03\n",
              "Timezone                 1.285961e-03\n",
              "Nautical_Twilight        1.007612e-03\n",
              "Civil_Twilight           1.007612e-03\n",
              "Sunrise_Sunset           1.007612e-03\n",
              "Astronomical_Twilight    1.007612e-03\n",
              "Zipcode                  4.635647e-04\n",
              "City                     4.814887e-05\n",
              "Street                   7.029032e-07\n",
              "Country                  0.000000e+00\n",
              "Junction                 0.000000e+00\n",
              "Start_Time               0.000000e+00\n",
              "End_Time                 0.000000e+00\n",
              "Start_Lat                0.000000e+00\n",
              "Turning_Loop             0.000000e+00\n",
              "Traffic_Signal           0.000000e+00\n",
              "Traffic_Calming          0.000000e+00\n",
              "Stop                     0.000000e+00\n",
              "Station                  0.000000e+00\n",
              "Roundabout               0.000000e+00\n",
              "Railway                  0.000000e+00\n",
              "No_Exit                  0.000000e+00\n",
              "Crossing                 0.000000e+00\n",
              "Give_Way                 0.000000e+00\n",
              "Bump                     0.000000e+00\n",
              "Amenity                  0.000000e+00\n",
              "Start_Lng                0.000000e+00\n",
              "End_Lat                  0.000000e+00\n",
              "End_Lng                  0.000000e+00\n",
              "Distance(mi)             0.000000e+00\n",
              "Description              0.000000e+00\n",
              "Severity                 0.000000e+00\n",
              "Side                     0.000000e+00\n",
              "County                   0.000000e+00\n",
              "State                    0.000000e+00\n",
              "ID                       0.000000e+00\n",
              "dtype: float64"
            ]
          },
          "metadata": {},
          "execution_count": 18
        }
      ],
      "source": [
        "missing_percentages = df.isna().sum().sort_values(ascending = False)/len(df)\n",
        "missing_percentages"
      ]
    },
    {
      "cell_type": "markdown",
      "metadata": {
        "id": "4bHDNkGA_Ejr"
      },
      "source": [
        "- To remove the missing_percentages columns, so we index the boolean series that we have got(true is it is NOT 0 and false is it is 0). so then Indexing only keeps the row which has value true "
      ]
    },
    {
      "cell_type": "code",
      "execution_count": 19,
      "metadata": {
        "colab": {
          "base_uri": "https://localhost:8080/"
        },
        "id": "qLyrHvDB-_r5",
        "outputId": "0fbd420b-ce19-4ded-ae19-8d3e1a38e645"
      },
      "outputs": [
        {
          "output_type": "execute_result",
          "data": {
            "text/plain": [
              "Number                   6.129003e-01\n",
              "Precipitation(in)        1.931079e-01\n",
              "Wind_Chill(F)            1.650568e-01\n",
              "Wind_Speed(mph)          5.550967e-02\n",
              "Wind_Direction           2.592834e-02\n",
              "Humidity(%)              2.568830e-02\n",
              "Weather_Condition        2.482514e-02\n",
              "Visibility(mi)           2.479350e-02\n",
              "Temperature(F)           2.434646e-02\n",
              "Pressure(in)             2.080593e-02\n",
              "Weather_Timestamp        1.783125e-02\n",
              "Airport_Code             3.356011e-03\n",
              "Timezone                 1.285961e-03\n",
              "Nautical_Twilight        1.007612e-03\n",
              "Civil_Twilight           1.007612e-03\n",
              "Sunrise_Sunset           1.007612e-03\n",
              "Astronomical_Twilight    1.007612e-03\n",
              "Zipcode                  4.635647e-04\n",
              "City                     4.814887e-05\n",
              "Street                   7.029032e-07\n",
              "dtype: float64"
            ]
          },
          "metadata": {},
          "execution_count": 19
        }
      ],
      "source": [
        "missing_percentages[missing_percentages != 0]"
      ]
    },
    {
      "cell_type": "markdown",
      "metadata": {
        "id": "uzq0JMtz_4VO"
      },
      "source": [
        "we can plot a graph using the missing percentages, HOWEVER missing_percentages is not a dataframe but a SERIES bcoz it just have one column of data"
      ]
    },
    {
      "cell_type": "code",
      "execution_count": 20,
      "metadata": {
        "colab": {
          "base_uri": "https://localhost:8080/"
        },
        "id": "Oq-GUfMfzrhh",
        "outputId": "6c8709c0-a12b-4369-d3be-9c1f491feb66"
      },
      "outputs": [
        {
          "output_type": "execute_result",
          "data": {
            "text/plain": [
              "pandas.core.series.Series"
            ]
          },
          "metadata": {},
          "execution_count": 20
        }
      ],
      "source": [
        "type(missing_percentages)"
      ]
    },
    {
      "cell_type": "code",
      "execution_count": 21,
      "metadata": {
        "colab": {
          "base_uri": "https://localhost:8080/",
          "height": 282
        },
        "id": "nvEhAQYxzrZ6",
        "outputId": "dd7ba14b-806d-44d7-f6ef-e04f58595872"
      },
      "outputs": [
        {
          "output_type": "execute_result",
          "data": {
            "text/plain": [
              "<matplotlib.axes._subplots.AxesSubplot at 0x7fe29e2bf650>"
            ]
          },
          "metadata": {},
          "execution_count": 21
        },
        {
          "output_type": "display_data",
          "data": {
            "text/plain": [
              "<Figure size 432x288 with 1 Axes>"
            ],
            "image/png": "[encoded data removed]"
          },
          "metadata": {
            "needs_background": "light"
          }
        }
      ],
      "source": [
        "missing_percentages[missing_percentages != 0].plot(kind = 'barh')"
      ]
    },
    {
      "cell_type": "markdown",
      "metadata": {
        "id": "Eb5dvayMBKM_"
      },
      "source": [
        "- Here we can analyse that if the parameters are missing half the time then we can say its probably not that useful, as it not available completely, So we can choose to SKIP that data.\n",
        "- we can remove those colums using df.drop()"
      ]
    },
    {
      "cell_type": "markdown",
      "metadata": {
        "id": "wO3pb0E9B2GX"
      },
      "source": [
        "REMOVE columns that we dont want to use"
      ]
    },
    {
      "cell_type": "code",
      "execution_count": null,
      "metadata": {
        "id": "a4tODWdyB1KI"
      },
      "outputs": [],
      "source": [
        ""
      ]
    },
    {
      "cell_type": "markdown",
      "metadata": {
        "id": "wtWaf8ouDoMC"
      },
      "source": [
        "## Exploratory Analysis & Visualization\n",
        "Columns that are analyzed:\n",
        "1. city\n",
        "2. Start time\n",
        "3. Start lat, start long\n",
        "4. temperature\n",
        "5. Weather condition"
      ]
    },
    {
      "cell_type": "markdown",
      "metadata": {
        "id": "_Hc_kkoJaAjs"
      },
      "source": [
        "### City"
      ]
    },
    {
      "cell_type": "code",
      "execution_count": 22,
      "metadata": {
        "colab": {
          "base_uri": "https://localhost:8080/"
        },
        "id": "o2tntEw2DyTy",
        "outputId": "8824fdcf-8e25-41f8-a2eb-de5c44c8f482"
      },
      "outputs": [
        {
          "output_type": "execute_result",
          "data": {
            "text/plain": [
              "Index(['ID', 'Severity', 'Start_Time', 'End_Time', 'Start_Lat', 'Start_Lng',\n",
              "       'End_Lat', 'End_Lng', 'Distance(mi)', 'Description', 'Number', 'Street',\n",
              "       'Side', 'City', 'County', 'State', 'Zipcode', 'Country', 'Timezone',\n",
              "       'Airport_Code', 'Weather_Timestamp', 'Temperature(F)', 'Wind_Chill(F)',\n",
              "       'Humidity(%)', 'Pressure(in)', 'Visibility(mi)', 'Wind_Direction',\n",
              "       'Wind_Speed(mph)', 'Precipitation(in)', 'Weather_Condition', 'Amenity',\n",
              "       'Bump', 'Crossing', 'Give_Way', 'Junction', 'No_Exit', 'Railway',\n",
              "       'Roundabout', 'Station', 'Stop', 'Traffic_Calming', 'Traffic_Signal',\n",
              "       'Turning_Loop', 'Sunrise_Sunset', 'Civil_Twilight', 'Nautical_Twilight',\n",
              "       'Astronomical_Twilight'],\n",
              "      dtype='object')"
            ]
          },
          "metadata": {},
          "execution_count": 22
        }
      ],
      "source": [
        "df.columns"
      ]
    },
    {
      "cell_type": "code",
      "execution_count": 23,
      "metadata": {
        "colab": {
          "base_uri": "https://localhost:8080/"
        },
        "id": "fXVcqKpBDyG7",
        "outputId": "e73d435e-e080-476d-a60b-aaf39a6ed1a0"
      },
      "outputs": [
        {
          "output_type": "execute_result",
          "data": {
            "text/plain": [
              "0               Dublin\n",
              "1               Dayton\n",
              "2           Cincinnati\n",
              "3                Akron\n",
              "4           Cincinnati\n",
              "              ...     \n",
              "2845337      Riverside\n",
              "2845338      San Diego\n",
              "2845339         Orange\n",
              "2845340    Culver City\n",
              "2845341       Highland\n",
              "Name: City, Length: 2845342, dtype: object"
            ]
          },
          "metadata": {},
          "execution_count": 23
        }
      ],
      "source": [
        "df.City"
      ]
    },
    {
      "cell_type": "code",
      "execution_count": 24,
      "metadata": {
        "colab": {
          "base_uri": "https://localhost:8080/"
        },
        "id": "u9_I7-0qDyB5",
        "outputId": "649f8b13-1525-4a70-f4dc-70e92820356c"
      },
      "outputs": [
        {
          "output_type": "execute_result",
          "data": {
            "text/plain": [
              "11682"
            ]
          },
          "metadata": {},
          "execution_count": 24
        }
      ],
      "source": [
        "unique_cities = df.City.unique()\n",
        "unique_cities[:100]\n",
        "len(unique_cities)"
      ]
    },
    {
      "cell_type": "markdown",
      "metadata": {
        "id": "cANpLX_RrxSq"
      },
      "source": [
        "Since we can obv not look at all the cities so we will look at the top cities with number of accidents"
      ]
    },
    {
      "cell_type": "markdown",
      "metadata": {
        "id": "jUhDGuKbsNAF"
      },
      "source": [
        "Now here we want a COUNT of total number of rows for each city.\n",
        "- with pandas it can be done step by step instead of applying FOR loop\n",
        "Steps\n",
        "1. No.of accidents per city = value_counts()"
      ]
    },
    {
      "cell_type": "code",
      "execution_count": 25,
      "metadata": {
        "colab": {
          "base_uri": "https://localhost:8080/"
        },
        "id": "tyIb7xZWr_kR",
        "outputId": "84056f35-19dd-4e9c-d824-295495f7cd05"
      },
      "outputs": [
        {
          "output_type": "execute_result",
          "data": {
            "text/plain": [
              "Miami           106966\n",
              "Los Angeles      68956\n",
              "Orlando          54691\n",
              "Dallas           41979\n",
              "Houston          39448\n",
              "Charlotte        33152\n",
              "Sacramento       32559\n",
              "San Diego        26627\n",
              "Raleigh          22840\n",
              "Minneapolis      22768\n",
              "Portland         20944\n",
              "Nashville        20267\n",
              "Austin           18301\n",
              "Baton Rouge      18182\n",
              "Phoenix          17143\n",
              "Saint Paul       16869\n",
              "New Orleans      16251\n",
              "Atlanta          15622\n",
              "Jacksonville     14967\n",
              "Richmond         14349\n",
              "Name: City, dtype: int64"
            ]
          },
          "metadata": {},
          "execution_count": 25
        }
      ],
      "source": [
        "cities_by_accidents = df.City.value_counts()\n",
        "cities_by_accidents[:20]"
      ]
    },
    {
      "cell_type": "markdown",
      "metadata": {
        "id": "O6F16Wxyyx38"
      },
      "source": [
        "Here as known new york has highest population but it does not come under the highest number of accidents.\n",
        "This can be put under the answer-ques section"
      ]
    },
    {
      "cell_type": "markdown",
      "metadata": {
        "id": "yONK-qzjzb_g"
      },
      "source": [
        "Now first check if New york exist in the column: \"Newyork\" in df.City()\n",
        "(Pandas check if a value exist in a column)\n",
        "\n"
      ]
    },
    {
      "cell_type": "code",
      "execution_count": 26,
      "metadata": {
        "colab": {
          "base_uri": "https://localhost:8080/"
        },
        "id": "Ba34j0HTzYDI",
        "outputId": "205433f0-d1a8-40e0-dddd-a2ec08fbbb25"
      },
      "outputs": [
        {
          "output_type": "execute_result",
          "data": {
            "text/plain": [
              "False"
            ]
          },
          "metadata": {},
          "execution_count": 26
        }
      ],
      "source": [
        "'New York' in df.City\n",
        "'NY' in df.State"
      ]
    },
    {
      "cell_type": "markdown",
      "metadata": {
        "id": "776_d8FX0xj7"
      },
      "source": [
        "This mean New York does not exist in the data"
      ]
    },
    {
      "cell_type": "code",
      "execution_count": 27,
      "metadata": {
        "colab": {
          "base_uri": "https://localhost:8080/"
        },
        "id": "I9wUoynVHXJV",
        "outputId": "2046ef99-2b45-421e-8b2e-d1a3d1e83884"
      },
      "outputs": [
        {
          "output_type": "execute_result",
          "data": {
            "text/plain": [
              "pandas.core.series.Series"
            ]
          },
          "metadata": {},
          "execution_count": 27
        }
      ],
      "source": [
        "type(cities_by_accidents)"
      ]
    },
    {
      "cell_type": "code",
      "execution_count": 28,
      "metadata": {
        "colab": {
          "base_uri": "https://localhost:8080/",
          "height": 282
        },
        "id": "yLWpKnciyjzU",
        "outputId": "a5727e65-0bdc-410e-badd-d0376eb2ab38"
      },
      "outputs": [
        {
          "output_type": "execute_result",
          "data": {
            "text/plain": [
              "<matplotlib.axes._subplots.AxesSubplot at 0x7fe29d111690>"
            ]
          },
          "metadata": {},
          "execution_count": 28
        },
        {
          "output_type": "display_data",
          "data": {
            "text/plain": [
              "<Figure size 432x288 with 1 Axes>"
            ],
            "image/png": "[encoded data removed]"
          },
          "metadata": {
            "needs_background": "light"
          }
        }
      ],
      "source": [
        "cities_by_accidents[:20].plot(kind = 'barh')"
      ]
    },
    {
      "cell_type": "markdown",
      "metadata": {
        "id": "yw2mi5zHGR0P"
      },
      "source": [
        "Distribution of cities with small number of accidents and cities with large number of accidents"
      ]
    },
    {
      "cell_type": "markdown",
      "metadata": {
        "id": "huy10_urGhyS"
      },
      "source": [
        "Seaborn is library like matplotlib for data visualsiation"
      ]
    },
    {
      "cell_type": "code",
      "execution_count": 29,
      "metadata": {
        "id": "qL0OxQodGQR5"
      },
      "outputs": [],
      "source": [
        "import seaborn as sns\n",
        "sns.set_style(\"whitegrid\")"
      ]
    },
    {
      "cell_type": "code",
      "execution_count": 30,
      "metadata": {
        "colab": {
          "base_uri": "https://localhost:8080/",
          "height": 300
        },
        "id": "ZJm8sdUzHBFJ",
        "outputId": "808964b5-af10-4344-8a8a-572a45fd1af4"
      },
      "outputs": [
        {
          "output_type": "execute_result",
          "data": {
            "text/plain": [
              "<matplotlib.axes._subplots.AxesSubplot at 0x7fe275212250>"
            ]
          },
          "metadata": {},
          "execution_count": 30
        },
        {
          "output_type": "display_data",
          "data": {
            "text/plain": [
              "<Figure size 432x288 with 1 Axes>"
            ],
            "image/png": "[encoded data removed]"
          },
          "metadata": {}
        }
      ],
      "source": [
        "sns.histplot(cities_by_accidents, log_scale = True)"
      ]
    },
    {
      "cell_type": "markdown",
      "metadata": {
        "id": "GnqN55N6YvdI"
      },
      "source": [
        "Graph represents yaxis: count of no of cities, xaxis: count of accidents in the cities"
      ]
    },
    {
      "cell_type": "markdown",
      "metadata": {
        "id": "p5hVBrZwRurr"
      },
      "source": [
        "if we look at the graph o to 100 accidents is where the major chunk of data falls\n",
        "and almost 1300 cities has 1 accidents\n",
        "- so we can ignore the value which occur less than 10 times coz we cannt really make any useful insights using those cities"
      ]
    },
    {
      "cell_type": "code",
      "execution_count": 31,
      "metadata": {
        "colab": {
          "base_uri": "https://localhost:8080/"
        },
        "id": "vxzj0HLPSgGX",
        "outputId": "967356b2-f755-4bb6-e005-b2bf85e7ca56"
      },
      "outputs": [
        {
          "output_type": "execute_result",
          "data": {
            "text/plain": [
              "Carney                          1\n",
              "Waverly Hall                    1\n",
              "Center Sandwich                 1\n",
              "Glen Flora                      1\n",
              "Sulphur Springs                 1\n",
              "                               ..\n",
              "Ridgedale                       1\n",
              "Sekiu                           1\n",
              "Wooldridge                      1\n",
              "Bullock                         1\n",
              "American Fork-Pleasant Grove    1\n",
              "Name: City, Length: 1110, dtype: int64"
            ]
          },
          "metadata": {},
          "execution_count": 31
        }
      ],
      "source": [
        "cities_by_accidents[cities_by_accidents == 1]"
      ]
    },
    {
      "cell_type": "code",
      "execution_count": null,
      "metadata": {
        "id": "WbAEPInqSe2O"
      },
      "outputs": [],
      "source": [
        ""
      ]
    },
    {
      "cell_type": "code",
      "execution_count": 32,
      "metadata": {
        "id": "gd2DFMFKNyHu"
      },
      "outputs": [],
      "source": [
        "high_accident_cities = cities_by_accidents[cities_by_accidents>=1000]\n",
        "low_accident_cities = cities_by_accidents[cities_by_accidents<1000]"
      ]
    },
    {
      "cell_type": "markdown",
      "source": [
        ""
      ],
      "metadata": {
        "id": "lv580vQ7hL20"
      }
    },
    {
      "cell_type": "code",
      "execution_count": 33,
      "metadata": {
        "colab": {
          "base_uri": "https://localhost:8080/"
        },
        "id": "9EBK1OUmN7mX",
        "outputId": "91dd7f99-82a0-4b63-c4dc-a6536b3f3903"
      },
      "outputs": [
        {
          "output_type": "execute_result",
          "data": {
            "text/plain": [
              "0.04246211796935194"
            ]
          },
          "metadata": {},
          "execution_count": 33
        }
      ],
      "source": [
        "len(high_accident_cities)/len(cities_by_accidents)"
      ]
    },
    {
      "cell_type": "code",
      "execution_count": 34,
      "metadata": {
        "colab": {
          "base_uri": "https://localhost:8080/"
        },
        "id": "iAO11_3eORLZ",
        "outputId": "84a4ac6a-f7ba-44d2-e2ab-d6f9ebed23c2"
      },
      "outputs": [
        {
          "output_type": "execute_result",
          "data": {
            "text/plain": [
              "0.957537882030648"
            ]
          },
          "metadata": {},
          "execution_count": 34
        }
      ],
      "source": [
        "len(low_accident_cities)/len(cities_by_accidents)"
      ]
    },
    {
      "cell_type": "markdown",
      "metadata": {
        "id": "kiLclWaBOKog"
      },
      "source": [
        "This means less than 5% of cities have more than 1000 accidents"
      ]
    },
    {
      "cell_type": "code",
      "execution_count": 35,
      "metadata": {
        "colab": {
          "base_uri": "https://localhost:8080/",
          "height": 300
        },
        "id": "8NMlhMfYOtJM",
        "outputId": "376959ea-cf1a-4662-c596-0edec4fe79b5"
      },
      "outputs": [
        {
          "output_type": "execute_result",
          "data": {
            "text/plain": [
              "<matplotlib.axes._subplots.AxesSubplot at 0x7fe2e5e3fcd0>"
            ]
          },
          "metadata": {},
          "execution_count": 35
        },
        {
          "output_type": "display_data",
          "data": {
            "text/plain": [
              "<Figure size 432x288 with 1 Axes>"
            ],
            "image/png": "[encoded data removed]"
          },
          "metadata": {}
        }
      ],
      "source": [
        "sns.histplot(high_accident_cities, log_scale = True)"
      ]
    },
    {
      "cell_type": "code",
      "execution_count": 36,
      "metadata": {
        "colab": {
          "base_uri": "https://localhost:8080/",
          "height": 300
        },
        "id": "9VJDjvygO0pA",
        "outputId": "9301319e-3950-4305-cb2d-3f040bac73df"
      },
      "outputs": [
        {
          "output_type": "execute_result",
          "data": {
            "text/plain": [
              "<matplotlib.axes._subplots.AxesSubplot at 0x7fe283b99d10>"
            ]
          },
          "metadata": {},
          "execution_count": 36
        },
        {
          "output_type": "display_data",
          "data": {
            "text/plain": [
              "<Figure size 432x288 with 1 Axes>"
            ],
            "image/png": "[encoded data removed]"
          },
          "metadata": {}
        }
      ],
      "source": [
        "sns.histplot(low_accident_cities, log_scale = True)"
      ]
    },
    {
      "cell_type": "markdown",
      "metadata": {
        "id": "Nmiqif05QwOM"
      },
      "source": [
        "Since we can observe that both the graph seems to be same with the same exponential distribution, the graph observation becomes tricky, So for that we can use a LOGARITHMIC SCALE"
      ]
    },
    {
      "cell_type": "markdown",
      "metadata": {
        "id": "c2_afgo3aGC2"
      },
      "source": [
        "### Start Time"
      ]
    },
    {
      "cell_type": "markdown",
      "metadata": {
        "id": "AR2ZzbdDewRE"
      },
      "source": [
        "format of time: yr-month-day"
      ]
    },
    {
      "cell_type": "code",
      "execution_count": 37,
      "metadata": {
        "colab": {
          "base_uri": "https://localhost:8080/"
        },
        "id": "cpskLgNGaJlt",
        "outputId": "eb79a9d2-18af-472f-866e-01f595121640"
      },
      "outputs": [
        {
          "output_type": "execute_result",
          "data": {
            "text/plain": [
              "0          2016-02-08 00:37:08\n",
              "1          2016-02-08 05:56:20\n",
              "2          2016-02-08 06:15:39\n",
              "3          2016-02-08 06:51:45\n",
              "4          2016-02-08 07:53:43\n",
              "                  ...         \n",
              "2845337    2019-08-23 18:03:25\n",
              "2845338    2019-08-23 19:11:30\n",
              "2845339    2019-08-23 19:00:21\n",
              "2845340    2019-08-23 19:00:21\n",
              "2845341    2019-08-23 18:52:06\n",
              "Name: Start_Time, Length: 2845342, dtype: object"
            ]
          },
          "metadata": {},
          "execution_count": 37
        }
      ],
      "source": [
        "df.Start_Time"
      ]
    },
    {
      "cell_type": "markdown",
      "metadata": {
        "id": "cIsv8NyKe7nf"
      },
      "source": [
        "Since start time currently is a STRING, so we wnat to convert it into data.\n",
        "so we want to PANDAS PARSE DATES: pd.to_datetime(df.starttime)"
      ]
    },
    {
      "cell_type": "code",
      "execution_count": 38,
      "metadata": {
        "colab": {
          "base_uri": "https://localhost:8080/"
        },
        "id": "4TX3fNKbaJTy",
        "outputId": "23eaec6e-b9d1-4ae3-98ed-24487d01c201"
      },
      "outputs": [
        {
          "output_type": "execute_result",
          "data": {
            "text/plain": [
              "Timestamp('2016-02-08 07:53:43')"
            ]
          },
          "metadata": {},
          "execution_count": 38
        }
      ],
      "source": [
        "df.Start_Time = pd.to_datetime(df.Start_Time)\n",
        "df.Start_Time[4]"
      ]
    },
    {
      "cell_type": "markdown",
      "metadata": {
        "id": "8gIigkgEhSXM"
      },
      "source": [
        "Now here will get HOUR OF DATE from datetime\n",
        "\n",
        "\n",
        "*   here df.Start_time.[0].hour is to give hour for specific element not for the whole list\n",
        "*   so to get hour for the whole series we use, .dt.hour\n",
        "\n"
      ]
    },
    {
      "cell_type": "code",
      "execution_count": 39,
      "metadata": {
        "colab": {
          "base_uri": "https://localhost:8080/"
        },
        "id": "a6zaKJsH40r0",
        "outputId": "daa61389-c7ae-402c-f619-92a0a2483a60"
      },
      "outputs": [
        {
          "output_type": "execute_result",
          "data": {
            "text/plain": [
              "10    15\n",
              "11    16\n",
              "12    17\n",
              "13    17\n",
              "14    18\n",
              "15    18\n",
              "16    19\n",
              "17    19\n",
              "18    20\n",
              "19    21\n",
              "Name: Start_Time, dtype: int64"
            ]
          },
          "metadata": {},
          "execution_count": 39
        }
      ],
      "source": [
        "df.Start_Time.dt.hour[10:20]"
      ]
    },
    {
      "cell_type": "markdown",
      "metadata": {
        "id": "bGue5ite6YN3"
      },
      "source": [
        "Firstly we need it for 24 hours so we will add bins=24"
      ]
    },
    {
      "cell_type": "markdown",
      "metadata": {
        "id": "hiaHavJl7Xwv"
      },
      "source": [
        "Since we want to percentages of accidents on y axis: we need to figure out how to show percentages!!\n",
        "SNS DISTPLOT PERCENTAGES by **norm_hist = True**"
      ]
    },
    {
      "cell_type": "code",
      "execution_count": 40,
      "metadata": {
        "colab": {
          "base_uri": "https://localhost:8080/",
          "height": 352
        },
        "id": "bd8gAW4RaJEh",
        "outputId": "a52743bc-e3d8-4358-d3f0-bfd7cb10904e"
      },
      "outputs": [
        {
          "output_type": "stream",
          "name": "stderr",
          "text": [
            "/usr/local/lib/python3.7/dist-packages/seaborn/distributions.py:2619: FutureWarning: `distplot` is a deprecated function and will be removed in a future version. Please adapt your code to use either `displot` (a figure-level function with similar flexibility) or `histplot` (an axes-level function for histograms).\n",
            "  warnings.warn(msg, FutureWarning)\n"
          ]
        },
        {
          "output_type": "execute_result",
          "data": {
            "text/plain": [
              "<matplotlib.axes._subplots.AxesSubplot at 0x7fe274c17410>"
            ]
          },
          "metadata": {},
          "execution_count": 40
        },
        {
          "output_type": "display_data",
          "data": {
            "text/plain": [
              "<Figure size 432x288 with 1 Axes>"
            ],
            "image/png": "[encoded data removed]"
          },
          "metadata": {}
        }
      ],
      "source": [
        "sns.distplot(df.Start_Time.dt.hour, bins = 24, kde = False, norm_hist = True)"
      ]
    },
    {
      "cell_type": "markdown",
      "metadata": {
        "id": "s1hnL9ot8I0o"
      },
      "source": [
        "So from the graph we can concur that most accidents occur b/w 7 to 9 am then con1 to 4pm\n",
        "- A high % of accidents occur 7am to 10am to 12pm to 6pm(probably people getting to and out of work)\n",
        "- It could also be set thar during this time the traffic is higher, So we can **look a traffic chart compare it with accident charge and see accident/traffic and see if that number is high**\n",
        "- Since we dont have traffic info in given dataset we might want to grab it from some external dataset"
      ]
    },
    {
      "cell_type": "markdown",
      "metadata": {
        "id": "0SLWP7PC_ZVh"
      },
      "source": [
        "Lets do another for the day of week,\n",
        "search PANDAS DT DAY OF WEEK: (dt.day_of_week). bins = 7 for 7 days"
      ]
    },
    {
      "cell_type": "code",
      "execution_count": 41,
      "metadata": {
        "colab": {
          "base_uri": "https://localhost:8080/",
          "height": 352
        },
        "id": "Ph8Uo7TV-nfX",
        "outputId": "deaa79c5-d2fb-4ca2-d86e-11a2e95aee0c"
      },
      "outputs": [
        {
          "output_type": "stream",
          "name": "stderr",
          "text": [
            "/usr/local/lib/python3.7/dist-packages/seaborn/distributions.py:2619: FutureWarning: `distplot` is a deprecated function and will be removed in a future version. Please adapt your code to use either `displot` (a figure-level function with similar flexibility) or `histplot` (an axes-level function for histograms).\n",
            "  warnings.warn(msg, FutureWarning)\n"
          ]
        },
        {
          "output_type": "execute_result",
          "data": {
            "text/plain": [
              "<matplotlib.axes._subplots.AxesSubplot at 0x7fe274ba2490>"
            ]
          },
          "metadata": {},
          "execution_count": 41
        },
        {
          "output_type": "display_data",
          "data": {
            "text/plain": [
              "<Figure size 432x288 with 1 Axes>"
            ],
            "image/png": "[encoded data removed]"
          },
          "metadata": {}
        }
      ],
      "source": [
        "sns.distplot(df.Start_Time.dt.dayofweek, bins = 7, kde = False, norm_hist = True)"
      ]
    },
    {
      "cell_type": "markdown",
      "metadata": {
        "id": "Um4v69f_AcNF"
      },
      "source": [
        "- It can be observed that it is evenly distributed on weekdays, so this is where we see a deviation from normal exponential or gaussian curves bcoz of systems we have created)\n",
        "- So can observe that on **weekends** the no of accidents is lower(probably due to staying at home)"
      ]
    },
    {
      "cell_type": "markdown",
      "metadata": {
        "id": "_IDdw1l7BIHh"
      },
      "source": [
        "Now we can go further to check if on weekends the distribution of accidents by hour the SAME??\n",
        "- We would do that is first to get the data just for weekdays\n"
      ]
    },
    {
      "cell_type": "markdown",
      "metadata": {
        "id": "rl573XTDBeEZ"
      },
      "source": [
        "Is the distribution of accidents by hour the same on weekends as on weekdays as on weekdays?"
      ]
    },
    {
      "cell_type": "code",
      "execution_count": 42,
      "metadata": {
        "colab": {
          "base_uri": "https://localhost:8080/"
        },
        "id": "TtHnE6rOEp9r",
        "outputId": "3301cf04-a2eb-49e4-9d31-dfa41b1b9750"
      },
      "outputs": [
        {
          "output_type": "execute_result",
          "data": {
            "text/plain": [
              "0          False\n",
              "1          False\n",
              "2          False\n",
              "3          False\n",
              "4          False\n",
              "           ...  \n",
              "2845337    False\n",
              "2845338    False\n",
              "2845339    False\n",
              "2845340    False\n",
              "2845341    False\n",
              "Name: Start_Time, Length: 2845342, dtype: bool"
            ]
          },
          "metadata": {},
          "execution_count": 42
        }
      ],
      "source": [
        "df.Start_Time.dt.dayofweek == 6"
      ]
    },
    {
      "cell_type": "markdown",
      "metadata": {
        "id": "Ygy99wKzEz83"
      },
      "source": [
        "This gives us a list of true/false for if it is a weekend or not\n",
        "so we will index it "
      ]
    },
    {
      "cell_type": "code",
      "execution_count": 43,
      "metadata": {
        "colab": {
          "base_uri": "https://localhost:8080/",
          "height": 352
        },
        "id": "2fywA9L3Eghv",
        "outputId": "4286d7f4-fcb7-4e8b-85cc-53f4c4dee717"
      },
      "outputs": [
        {
          "output_type": "stream",
          "name": "stderr",
          "text": [
            "/usr/local/lib/python3.7/dist-packages/seaborn/distributions.py:2619: FutureWarning: `distplot` is a deprecated function and will be removed in a future version. Please adapt your code to use either `displot` (a figure-level function with similar flexibility) or `histplot` (an axes-level function for histograms).\n",
            "  warnings.warn(msg, FutureWarning)\n"
          ]
        },
        {
          "output_type": "execute_result",
          "data": {
            "text/plain": [
              "<matplotlib.axes._subplots.AxesSubplot at 0x7fe274b9d3d0>"
            ]
          },
          "metadata": {},
          "execution_count": 43
        },
        {
          "output_type": "display_data",
          "data": {
            "text/plain": [
              "<Figure size 432x288 with 1 Axes>"
            ],
            "image/png": "[encoded data removed]"
          },
          "metadata": {}
        }
      ],
      "source": [
        "sundays_start_time = df.Start_Time[df.Start_Time.dt.dayofweek == 6]\n",
        "sns.distplot(sundays_start_time.dt.hour, bins = 24, kde = False, norm_hist = True)"
      ]
    },
    {
      "cell_type": "code",
      "execution_count": null,
      "metadata": {
        "colab": {
          "base_uri": "https://localhost:8080/",
          "height": 352
        },
        "id": "Ar7HgfvsGPzV",
        "outputId": "b6317e08-9d00-4bcf-b09f-18b78f759d23"
      },
      "outputs": [
        {
          "name": "stderr",
          "output_type": "stream",
          "text": [
            "/usr/local/lib/python3.7/dist-packages/seaborn/distributions.py:2619: FutureWarning: `distplot` is a deprecated function and will be removed in a future version. Please adapt your code to use either `displot` (a figure-level function with similar flexibility) or `histplot` (an axes-level function for histograms).\n",
            "  warnings.warn(msg, FutureWarning)\n"
          ]
        },
        {
          "data": {
            "text/plain": [
              "<matplotlib.axes._subplots.AxesSubplot at 0x7f871b299c90>"
            ]
          },
          "execution_count": 176,
          "metadata": {},
          "output_type": "execute_result"
        },
        {
          "data": {
            "image/png": "[encoded data removed]",
            "text/plain": [
              "<Figure size 432x288 with 1 Axes>"
            ]
          },
          "metadata": {},
          "output_type": "display_data"
        }
      ],
      "source": [
        "mundays_start_time = df.Start_Time[df.Start_Time.dt.dayofweek == 0]\n",
        "sns.distplot(mundays_start_time.dt.hour, bins = 24, kde = False, norm_hist = True)"
      ]
    },
    {
      "cell_type": "markdown",
      "metadata": {
        "id": "xkn24TppHHCr"
      },
      "source": [
        "Here we can see that most accidents in weekdays occur from people going and coming for work. so here we can get 2 **gaussian curve** for people going and coming for work"
      ]
    },
    {
      "cell_type": "code",
      "execution_count": 44,
      "metadata": {
        "colab": {
          "base_uri": "https://localhost:8080/",
          "height": 352
        },
        "id": "whZuKA_3GdT4",
        "outputId": "9e48a35c-73c2-452a-ce06-cd1bba26bb65"
      },
      "outputs": [
        {
          "output_type": "stream",
          "name": "stderr",
          "text": [
            "/usr/local/lib/python3.7/dist-packages/seaborn/distributions.py:2619: FutureWarning: `distplot` is a deprecated function and will be removed in a future version. Please adapt your code to use either `displot` (a figure-level function with similar flexibility) or `histplot` (an axes-level function for histograms).\n",
            "  warnings.warn(msg, FutureWarning)\n"
          ]
        },
        {
          "output_type": "execute_result",
          "data": {
            "text/plain": [
              "<matplotlib.axes._subplots.AxesSubplot at 0x7fe274aa9690>"
            ]
          },
          "metadata": {},
          "execution_count": 44
        },
        {
          "output_type": "display_data",
          "data": {
            "text/plain": [
              "<Figure size 432x288 with 1 Axes>"
            ],
            "image/png": "[encoded data removed]"
          },
          "metadata": {}
        }
      ],
      "source": [
        "saturdays_start_time = df.Start_Time[df.Start_Time.dt.dayofweek == 5]\n",
        "sns.distplot(saturdays_start_time.dt.hour, bins = 24, kde = False, norm_hist = True) "
      ]
    },
    {
      "cell_type": "markdown",
      "metadata": {
        "id": "ivS4V_XzF69F"
      },
      "source": [
        "We observe on **Sundays and saturdays** it is more Spread out distribution compared to **weekday**s, it seems its **afternoon** when most of the accidents occur"
      ]
    },
    {
      "cell_type": "markdown",
      "metadata": {
        "id": "zXDtAbkVJQQi"
      },
      "source": [
        "For month"
      ]
    },
    {
      "cell_type": "code",
      "execution_count": 45,
      "metadata": {
        "colab": {
          "base_uri": "https://localhost:8080/",
          "height": 352
        },
        "id": "G2GChLp1EJlS",
        "outputId": "36173aaf-5995-4150-ca52-457041d279d3"
      },
      "outputs": [
        {
          "output_type": "stream",
          "name": "stderr",
          "text": [
            "/usr/local/lib/python3.7/dist-packages/seaborn/distributions.py:2619: FutureWarning: `distplot` is a deprecated function and will be removed in a future version. Please adapt your code to use either `displot` (a figure-level function with similar flexibility) or `histplot` (an axes-level function for histograms).\n",
            "  warnings.warn(msg, FutureWarning)\n"
          ]
        },
        {
          "output_type": "execute_result",
          "data": {
            "text/plain": [
              "<matplotlib.axes._subplots.AxesSubplot at 0x7fe274a093d0>"
            ]
          },
          "metadata": {},
          "execution_count": 45
        },
        {
          "output_type": "display_data",
          "data": {
            "text/plain": [
              "<Figure size 432x288 with 1 Axes>"
            ],
            "image/png": "[encoded data removed]"
          },
          "metadata": {}
        }
      ],
      "source": [
        "sns.distplot(df.Start_Time.dt.month, bins = 12, kde = False, norm_hist = True)"
      ]
    },
    {
      "cell_type": "markdown",
      "metadata": {
        "id": "O9hpzJoWVorR"
      },
      "source": [
        "We can see accident rate is pretty high towards the end of the month\n",
        "As it is unusual, we should check if it is a real trend or if there is some issue with the data.\n",
        "as given on kaggle the data is from feb16 to dec21 i.e there is missing data from jan16.\n",
        "but overall it can be said that accident are pretty low in summer but goes up by end of the year\n",
        "- Much data is missing for 2020 maybe even for 2016\n",
        " **Ans** Much data is missing for 2020 maybe even for 2016"
      ]
    },
    {
      "cell_type": "markdown",
      "metadata": {
        "id": "B8m-KNGRXi7o"
      },
      "source": [
        "Lets look a data for a particular year"
      ]
    },
    {
      "cell_type": "code",
      "execution_count": 46,
      "metadata": {
        "colab": {
          "base_uri": "https://localhost:8080/",
          "height": 352
        },
        "id": "sfUQ2kjrXaP_",
        "outputId": "b757d3b2-4d14-43fd-91cc-730d579a7d19"
      },
      "outputs": [
        {
          "output_type": "stream",
          "name": "stderr",
          "text": [
            "/usr/local/lib/python3.7/dist-packages/seaborn/distributions.py:2619: FutureWarning: `distplot` is a deprecated function and will be removed in a future version. Please adapt your code to use either `displot` (a figure-level function with similar flexibility) or `histplot` (an axes-level function for histograms).\n",
            "  warnings.warn(msg, FutureWarning)\n"
          ]
        },
        {
          "output_type": "execute_result",
          "data": {
            "text/plain": [
              "<matplotlib.axes._subplots.AxesSubplot at 0x7fe274998ad0>"
            ]
          },
          "metadata": {},
          "execution_count": 46
        },
        {
          "output_type": "display_data",
          "data": {
            "text/plain": [
              "<Figure size 432x288 with 1 Axes>"
            ],
            "image/png": "[encoded data removed]"
          },
          "metadata": {}
        }
      ],
      "source": [
        "df_2019 = df.Start_Time[df.Start_Time.dt.year == 2020]\n",
        "sns.distplot(df_2019.dt.month, bins = 12, kde = False, norm_hist = True)"
      ]
    },
    {
      "cell_type": "markdown",
      "metadata": {
        "id": "eYXAnysoWoj8"
      },
      "source": [
        "Can you explain the month wise trend of accidents?\n",
        "for this will have to dealt down on the data itself or just look it up\n",
        "- **Ans:** Much data is missing for 2020 maybe even for 2016,2017...\n",
        "- There seems to be some issue with the big data(two sources are used here ,apquest an bing) found it using **df.Source**\n",
        "\n",
        "---\n",
        "\n"
      ]
    },
    {
      "cell_type": "markdown",
      "metadata": {
        "id": "VuvA0LX5fIPM"
      },
      "source": [
        ""
      ]
    },
    {
      "cell_type": "markdown",
      "metadata": {
        "id": "Or9KHexMfNgX"
      },
      "source": [
        "![image.png](data:image/png;base64,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)"
      ]
    },
    {
      "cell_type": "markdown",
      "source": [
        "df.Source.value_count().plot(kind = 'pie')"
      ],
      "metadata": {
        "id": "6kFor-vRheSm"
      }
    },
    {
      "cell_type": "markdown",
      "metadata": {
        "id": "8tbMEJgkfVLB"
      },
      "source": [
        "Consider excluding bing data, seems to have some issues"
      ]
    },
    {
      "cell_type": "markdown",
      "metadata": {
        "id": "yRPrL1UOfw1A"
      },
      "source": [
        "### Start lat, start long"
      ]
    },
    {
      "cell_type": "code",
      "execution_count": 47,
      "metadata": {
        "colab": {
          "base_uri": "https://localhost:8080/"
        },
        "id": "WwGqLMpZgRc6",
        "outputId": "bf6b4ced-c830-4501-9ad0-bbcfb8479aa6"
      },
      "outputs": [
        {
          "output_type": "execute_result",
          "data": {
            "text/plain": [
              "0          40.108910\n",
              "1          39.865420\n",
              "2          39.102660\n",
              "3          41.062130\n",
              "4          39.172393\n",
              "             ...    \n",
              "2845337    34.002480\n",
              "2845338    32.766960\n",
              "2845339    33.775450\n",
              "2845340    33.992460\n",
              "2845341    34.133930\n",
              "Name: Start_Lat, Length: 2845342, dtype: float64"
            ]
          },
          "metadata": {},
          "execution_count": 47
        }
      ],
      "source": [
        "df.Start_Lat"
      ]
    },
    {
      "cell_type": "code",
      "execution_count": 48,
      "metadata": {
        "colab": {
          "base_uri": "https://localhost:8080/"
        },
        "id": "rANxbSHugRYI",
        "outputId": "e9a17a1f-0c50-440b-e6cb-cdef1f297263"
      },
      "outputs": [
        {
          "output_type": "execute_result",
          "data": {
            "text/plain": [
              "0          -83.092860\n",
              "1          -84.062800\n",
              "2          -84.524680\n",
              "3          -81.537840\n",
              "4          -84.492792\n",
              "              ...    \n",
              "2845337   -117.379360\n",
              "2845338   -117.148060\n",
              "2845339   -117.847790\n",
              "2845340   -118.403020\n",
              "2845341   -117.230920\n",
              "Name: Start_Lng, Length: 2845342, dtype: float64"
            ]
          },
          "metadata": {},
          "execution_count": 48
        }
      ],
      "source": [
        "df.Start_Lng"
      ]
    },
    {
      "cell_type": "code",
      "execution_count": 49,
      "metadata": {
        "colab": {
          "base_uri": "https://localhost:8080/",
          "height": 299
        },
        "id": "Hwbcq9VvgRKu",
        "outputId": "44db6de6-ba40-414b-cae6-165d44e4b5ff"
      },
      "outputs": [
        {
          "output_type": "execute_result",
          "data": {
            "text/plain": [
              "<matplotlib.axes._subplots.AxesSubplot at 0x7fe274916090>"
            ]
          },
          "metadata": {},
          "execution_count": 49
        },
        {
          "output_type": "display_data",
          "data": {
            "text/plain": [
              "<Figure size 432x288 with 1 Axes>"
            ],
            "image/png": "[encoded data removed]"
          },
          "metadata": {}
        }
      ],
      "source": [
        "sns.scatterplot(x=df.Start_Lng, y=df.Start_Lat)"
      ]
    },
    {
      "cell_type": "markdown",
      "metadata": {
        "id": "dwOo2_LAmhYZ"
      },
      "source": [
        "Now we reduce the sample size for that we make another 10% sample, bcoz if we will try shortening it completely it will take awhile coz of the large dataset"
      ]
    },
    {
      "cell_type": "code",
      "execution_count": 50,
      "metadata": {
        "id": "_Uj7Igx2-CQt"
      },
      "outputs": [],
      "source": [
        "sample_df = df.sample(int(0.1*len(df)))\n"
      ]
    },
    {
      "cell_type": "code",
      "execution_count": 51,
      "metadata": {
        "colab": {
          "base_uri": "https://localhost:8080/",
          "height": 299
        },
        "id": "_ggxgb4D-rIy",
        "outputId": "db2f28a1-cdeb-4655-9bdd-087129fcfcba"
      },
      "outputs": [
        {
          "output_type": "execute_result",
          "data": {
            "text/plain": [
              "<matplotlib.axes._subplots.AxesSubplot at 0x7fe274820cd0>"
            ]
          },
          "metadata": {},
          "execution_count": 51
        },
        {
          "output_type": "display_data",
          "data": {
            "text/plain": [
              "<Figure size 432x288 with 1 Axes>"
            ],
            "image/png": "[encoded data removed]"
          },
          "metadata": {}
        }
      ],
      "source": [
        "sns.scatterplot(x=sample_df.Start_Lng, y=sample_df.Start_Lat, size = 0.001)"
      ]
    },
    {
      "cell_type": "markdown",
      "metadata": {
        "id": "ktedOBZu_MxF"
      },
      "source": [
        "now will try to plot this in map by:\n",
        "plot lat long on map in python\n",
        "FOR THIS WILL USE THE LIBRARY **FOLIUM**"
      ]
    },
    {
      "cell_type": "markdown",
      "metadata": {
        "id": "V9VzVhX5DzIe"
      },
      "source": [
        "## Ask & answer questions about the data\n",
        "1. Are there more accidents in warmer or colder areas?\n",
        "2. Which 5 states have the highest number of accidents? How about per capita accidents?\n",
        "3. Does New york show up in the data?If yes, why is its number of accidents count lower if this is the most populated city?\n",
        "4. Among the top 100 cities in number of accidents, which states do they belong to most frequently?\n",
        "5. What time of the day are accidents most frequent in?: **ANSWERED**\n",
        "6. Which days of the week has the most accidents?\n",
        "7. Which months have the most accidents?\n",
        "8. What is the trend of accidents year over year (decreasing/increasing)?\n",
        "9. When is accidents per unit of traffic the highest?\n",
        "\n"
      ]
    },
    {
      "cell_type": "markdown",
      "metadata": {
        "id": "Cv0EqVsrD9nz"
      },
      "source": [
        "## Summary & Conclusion\n",
        "Insights:\n",
        "- No data from New York\n",
        "- No. of accidents per city decreases exponentially.\n",
        "- Less than 5% of cities have more than 1000 yearly accidents.\n",
        "- Over 1200 cities have reported just 1 accidents (need to investigate)"
      ]
    },
    {
      "cell_type": "markdown",
      "metadata": {
        "id": "9ioCKRZtAJ_5"
      },
      "source": [
        ""
      ]
    },
    {
      "cell_type": "code",
      "execution_count": 54,
      "metadata": {
        "id": "ghewgUK6CC0K"
      },
      "outputs": [],
      "source": [
        "import jovian"
      ]
    },
    {
      "cell_type": "code",
      "source": [
        "jovian.commit()"
      ],
      "metadata": {
        "colab": {
          "base_uri": "https://localhost:8080/",
          "height": 104
        },
        "id": "ONEolkiIeoTp",
        "outputId": "7cf84395-0d88-4f67-bc0d-95393af57718"
      },
      "execution_count": 57,
      "outputs": [
        {
          "output_type": "stream",
          "name": "stdout",
          "text": [
            "[jovian] Detected Colab notebook...\u001b[0m\n",
            "[jovian] Uploading colab notebook to Jovian...\u001b[0m\n"
          ]
        },
        {
          "output_type": "stream",
          "name": "stderr",
          "text": [
            "\u001b[31m[jovian] Error: Looks like the notebook is missing output cells, please save the notebook and try jovian.commit again.\u001b[0m\n"
          ]
        },
        {
          "output_type": "stream",
          "name": "stdout",
          "text": [
            "Committed successfully! https://jovian.ai/charviarora9/us-accidents-exploratory-data-analysis\n"
          ]
        },
        {
          "output_type": "execute_result",
          "data": {
            "text/plain": [
              "'https://jovian.ai/charviarora9/us-accidents-exploratory-data-analysis'"
            ],
            "application/vnd.google.colaboratory.intrinsic+json": {
              "type": "string"
            }
          },
          "metadata": {},
          "execution_count": 57
        }
      ]
    },
    {
      "cell_type": "code",
      "source": [
        ""
      ],
      "metadata": {
        "id": "6ZxB27GGicdg"
      },
      "execution_count": null,
      "outputs": []
    }
  ],
  "metadata": {
    "colab": {
      "collapsed_sections": [
        "VZGibVALCC0H"
      ],
      "name": "Copy of us-accidents-exploratory-data-analysis.ipynb",
      "provenance": [],
      "include_colab_link": true
    },
    "kernelspec": {
      "display_name": "Python 3",
      "language": "python",
      "name": "python3"
    },
    "language_info": {
      "codemirror_mode": {
        "name": "ipython",
        "version": 3
      },
      "file_extension": ".py",
      "mimetype": "text/x-python",
      "name": "python",
      "nbconvert_exporter": "python",
      "pygments_lexer": "ipython3",
      "version": "3.7.6"
    }
  },
  "nbformat": 4,
  "nbformat_minor": 0
}